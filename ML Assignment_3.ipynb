{
 "cells": [
  {
   "cell_type": "markdown",
   "id": "b7289a99",
   "metadata": {},
   "source": [
    "### ML Assignment_3"
   ]
  },
  {
   "cell_type": "markdown",
   "id": "90d9e6c2",
   "metadata": {},
   "source": [
    "#### 1. Explain the term machine learning, and how does it work? Explain two machine learning applications in the business world. What are some of the ethical concerns that machine learning applications could raise?"
   ]
  },
  {
   "cell_type": "markdown",
   "id": "9ce84339",
   "metadata": {},
   "source": [
    "__Ans:__ Machine Learning is a form of artificial intelligence (AI) that teaches computers to think in a similar way to how humans do: Learning and improving upon past experiences. It works by exploring data and identifying patterns, and involves minimal human intervention.\n",
    "\n",
    "The various applications of Machine Learning in the Business World are :\n",
    "\n",
    "- Real-time Chatbot Agents\n",
    "- Decision Support\n",
    "- Customer Recommendation Engines\n",
    "- Customer Churn Modeling\n",
    "- Dynamic Pricing Tactics\n",
    "- Market Research and Customer Segmentation\n",
    "- Fraud Detection\n",
    "\n",
    "\n",
    "Some of the ethical concerns that Machine Learning applications could raise are : AI presents three major areas of ethical concern for society: Privacy and surveillance, bias and discrimination, and perhaps the deepest, most difficult philosophical question of the era, the role of human judgment."
   ]
  },
  {
   "cell_type": "markdown",
   "id": "cdd8cf53",
   "metadata": {},
   "source": [
    "#### 2. Describe the process of human learning:\n",
    "\n",
    "    1. Under the supervision of experts\n",
    "    2. With the assistance of experts in an indirect manner\n",
    "    3. Self-education"
   ]
  },
  {
   "cell_type": "markdown",
   "id": "478935fd",
   "metadata": {},
   "source": [
    "__Ans:__ The processes of Human Learning are described as follows:\n",
    "\n",
    " __Under the supervision of experts:__ Human-guided machine learning is a process whereby subject matter experts accelerate the learning process by teaching the technology in real-time. For example, if the machine learning model comes across a piece of data it is uncertain about, a human can be asked to weigh in and give feedback. The model then learns from this input, and uses it to make a more accurate prediction the next time. Human-guided machine learning works from the bottom up by first using algorithms to conduct the heavy lifting of identifying relationships within the data, and engaging humans when necessary for training or validation __``Concept Learning``__.\n",
    "\n",
    "\n",
    " __With the assistance of experts in an indirect manner:__ Well The process of an algorithm learning from the training dataset can be thought of as a teacher supervising the learning process. We know the correct answers, the algorithm iteratively makes predictions on the training data and is corrected by the teacher. Learning stops when the algorithm achieves an acceptable level of performance __``Operant Conditioning``__.\n",
    "\n",
    "\n",
    " __Self education:__ Ability to recognize patterns, learn from data, and become more intelligent over time (can be AI or programmatically based).Machine Learning: AI systems with ability to automatically learn and improve from experience without being explicitly programmed via training __``Hebbian Learning``__."
   ]
  },
  {
   "cell_type": "markdown",
   "id": "a464d27f",
   "metadata": {},
   "source": [
    "#### 3. Provide a few examples of various types of machine learning."
   ]
  },
  {
   "cell_type": "markdown",
   "id": "809cccf6",
   "metadata": {},
   "source": [
    "__Ans:__ Examples of Various types of Machine Learning techniques are:\n",
    "\n",
    "Example of __Supervised Learning__ is text classification problems. In this set of problems, the goal is to predict the class label of a given piece of text. One particularly popular topic in text classification is to predict the sentiment of a piece of text, like a tweet or a product review,Image segmentation, Medical Diagnosis\n",
    "\n",
    "\n",
    "Example of __Unsupervised Learning__ : Fraud detection, Malware detection, Anomaly detection, Clustering Analysis, Identification of human errors during data entry Conducting accurate basket analysis, etc.\n",
    "\n",
    "\n",
    "Example of __Reinforcement Learning__ : Applications in self-driving cars, Industry automation : learning-based robots are used to perform various tasks."
   ]
  },
  {
   "cell_type": "markdown",
   "id": "d39a9367",
   "metadata": {},
   "source": [
    "#### 4. Examine the various forms of machine learning."
   ]
  },
  {
   "cell_type": "markdown",
   "id": "ae647942",
   "metadata": {},
   "source": [
    "__Ans:__ The various forms of Machine Learning Techniques are :\n",
    "\n",
    "- Supervised Learning\n",
    "\n",
    "- Unsupervised Learning\n",
    "\n",
    "- Reinforcement Learning"
   ]
  },
  {
   "cell_type": "markdown",
   "id": "15bb1233",
   "metadata": {},
   "source": [
    "#### 5. Can you explain what a well-posed learning problem is? Explain the main characteristics that must be present to identify a learning problem properly."
   ]
  },
  {
   "cell_type": "markdown",
   "id": "f14952b2",
   "metadata": {},
   "source": [
    "__Ans:__ __Well Posed Learning Problem__ - A computer program is said to learn from experience __``E``__ in context to some task __``T``__ and some performance measure __``P``__, if it's performance on __``T``__, as was measured by __``P``__, upgrades with experience __``E``__. \n",
    "\n",
    "Any problem can be segregated as ___well-posed learning problem___ if it has three traits :\n",
    "- __``Task``__ \n",
    "\n",
    "- __``Performance``__ \n",
    "\n",
    "-  __``Experience``__"
   ]
  },
  {
   "cell_type": "markdown",
   "id": "15a3ef21",
   "metadata": {},
   "source": [
    "#### 6. Is machine learning capable of solving all problems? Give a detailed explanation of your answer."
   ]
  },
  {
   "cell_type": "markdown",
   "id": "eea93c8a",
   "metadata": {},
   "source": [
    "__Ans:__ Machine Learning probably can run into all problems for solving but lays down with some concerns which are:\n",
    "\n",
    "\n",
    "- __Ethics:__ The idea of trusting data and algorithms more than our own judgment has its pros and cons.Obviously, we benefit from these algorithms, otherwise, we wouldn’t be using them in the first place. These algorithms allow us to automate processes by making informed judgments using available data. Sometimes, however, this means replacing someone’s job with an algorithm, which comes with ethical ramifications.\n",
    "\n",
    "\n",
    "- __Deterministic Problem:__ Machine learning is stochastic, not deterministic. A neural network does not understand Newton’s second law, or that density cannot be negative — there are no physical constraints.\n",
    "\n",
    "\n",
    "- __Lack of Data:__ Many machine learning algorithms require large amounts of data before they begin to give useful results."
   ]
  },
  {
   "cell_type": "markdown",
   "id": "25feced1",
   "metadata": {},
   "source": [
    "#### 7. What are the various methods and technologies for solving machine learning problems? Any two of them should be defined in detail."
   ]
  },
  {
   "cell_type": "markdown",
   "id": "f1692ea7",
   "metadata": {},
   "source": [
    "__Ans:__ The Various _Technologies_ Used in Machine Learning Problems are: ``Scikit Learn``, ``Pytorch``, ``Tensorflow``, ``Keras``, ``Python``.\n",
    "\n",
    "1.__Scikit Learn:__ Scikit-learn (Sklearn) is the most useful and robust library for machine learning in Python. It provides a selection of efficient tools for machine learning and statistical modeling including classification, Regression, clustering and dimensionality reduction via a consistence interface in Python.\n",
    "\n",
    "2.__Tensorflow:__ It is a open source artificial intelligence library, Using data flow graphs to build models. It allows developers to create large-scale neural networks with many layers. TensorFlow is mainly used for: Classification, Perception, Understanding, Discovering, Prediction and Creation.\n",
    "\n",
    "\n",
    "The Various _Methods_ used in Machine Learning Problems are: ``Regression``, ``Classification``, ``Clustering``, ``Dimensionality Reduction``, ``Ensemble Methods``, ``Neural Network``, ``Deep Learning``, ``Transfer Learning``, ``Reinforcement Learning``, ``Natural Language Processing``, ``Word Embeddings``.\n",
    "\n",
    "__Regression__ methods fall within the category of supervised ML. They help to predict or explain a particular numerical value based on a set of prior data, for example predicting the price of a property based on previous pricing data for similar properties.\n",
    "\n",
    "Another class of supervised ML, __classification__ methods predict or explain a class value. For example, they can help predict whether or not an online customer will buy a product. The output can be yes or no, buyer or not buyer. But classification methods aren’t limited to two classes. For example, a classification method could help to assess whether a given image contains a car or a truck. In this case, the output will be 3 different values:\n",
    "\n",
    "- The image contains a car\n",
    "- The image contains a truck\n",
    "- The image contains neither a car nor a truck."
   ]
  },
  {
   "cell_type": "markdown",
   "id": "d8cc80e6",
   "metadata": {},
   "source": [
    "#### 8. Can you explain the various forms of supervised learning? Explain each one with an example application."
   ]
  },
  {
   "cell_type": "markdown",
   "id": "42d35304",
   "metadata": {},
   "source": [
    "__Ans:__ The various forms of Supervised Learning are explained in detail below:\n",
    "\n",
    "1. __Regression:__ In regression, a single output value is produced using training data. For Example, regression can help predict the price of a house based on its locality, size, etc.\n",
    "\n",
    "2. __Classification:__ It involves grouping the data into classes. For Example, If you are thinking of extending credit to a person, you can use classification to determine whether or not a person would be a loan defaulter.\n",
    "\n",
    "3. __Naive Bayesian Model:__ The Bayesian model of classification is used for large finite datasets. It is a method of assigning class labels using a direct acyclic graph.\n",
    "\n",
    "4. __Decision Trees:__ A decision tree is a flowchart-like model that contains conditional control statements, comprising decisions and their probable consequences. The output relates to the labelling of unforeseen data."
   ]
  },
  {
   "cell_type": "markdown",
   "id": "1a2f8528",
   "metadata": {},
   "source": [
    "#### 9. What is the difference between supervised and unsupervised learning? With a sample application in each region, explain the differences."
   ]
  },
  {
   "cell_type": "markdown",
   "id": "0c1457d5",
   "metadata": {},
   "source": [
    "__Ans:__ The difference between Supervised Learning algorithms is that they are trained using labeled data whereas Unsupervised Learning algorithms are trained using unlabeled data. In Unsupervised Learning, only input data is provided to the model.\n",
    "\n",
    "___For Example:___\n",
    "\n",
    "___Supervised Learning___ : Classification and Regression.\n",
    "\n",
    "___Unsuperised Learning___ : Clustering."
   ]
  },
  {
   "cell_type": "markdown",
   "id": "98e28170",
   "metadata": {},
   "source": [
    "#### 10. Describe the machine learning process in depth.\n",
    "\n",
    "__Make brief notes on any two of the following:__\n",
    "\n",
    "     1. MATLAB is one of the most widely used programming languages\n",
    "     2. Deep learning applications in healthcare\n",
    "     3. Study of the market basket\n",
    "     4. Linear regression (simple)"
   ]
  },
  {
   "cell_type": "markdown",
   "id": "88de7e4b",
   "metadata": {},
   "source": [
    "__Ans:__ ___The Machine Learning Process in-depth:___\n",
    "\n",
    "Imagine a dataset as a table, where the rows are each observation (aka measurement, data point, etc), and the columns for each observation represent the features of that observation and their values. At the outset of a machine learning project, a dataset is usually split into two or three subsets. The minimum subsets are the training and test datasets, and often an optional third validation dataset is created as well. Once these data subsets are created from the primary dataset, a predictive model or classifier is trained using the training data, and then the model’s predictive accuracy is determined using the test data. As, machine learning leverages algorithms to automatically model and find patterns in data, usually with the goal of predicting some target output or response. These algorithms are heavily based on statistics and mathematical optimization. _Optimization_ is the process of finding the smallest or largest value (minima or maxima) of a function, often referred to as a _loss or cost function_ in the minimization case. One of the most popular optimization algorithms used in machine learning is called _gradient descent_, and another is known as the _normal equation_. \n",
    "___In a nutshell, machine learning is all about automatically learning a highly accurate predictive or classifier model, or finding unknown patterns in data, by leveraging learning algorithms and optimization techniques.___\n",
    "\n",
    "\n",
    "\n",
    "__Brief Notes :__\n",
    "\n",
    "\n",
    "__Deep learning applications in healthcare:__ Deep learning provides the healthcare industry with the ability to analyze data at exceptional speeds without compromising on accuracy. It’s not machine learning, nor is it AI, it’s an elegant blend of both that uses a layered algorithmic architecture to sift through data at an astonishing rate. The benefits of deep learning in healthcare are plentiful – fast, efficient, accurate – but they don’t stop there. Even more benefits lie within the neural networks formed by multiple layers of AI and ML and their ability to learn. Yes, the secret to deep learning’s success is in the name – learning.\n",
    "\n",
    "__Linear regression (simple):__ Linear Regression models describe the relationship between variables by fitting a line to the observed data. Linear regression models use a straight line, while logistic and nonlinear regression models use a curved line. Regression allows you to estimate how a dependent variable changes as the independent variable(s) change."
   ]
  },
  {
   "cell_type": "markdown",
   "id": "4a8893b5",
   "metadata": {},
   "source": [
    "#### 11. Make a comparison between:-\n",
    "\n",
    "    1. Generalization and abstraction\n",
    "    2. Learning that is guided and unsupervised\n",
    "    3. Regression and classification\n"
   ]
  },
  {
   "cell_type": "markdown",
   "id": "07093a4b",
   "metadata": {},
   "source": [
    "__Ans:__ The following are the comparisons among the given concepts :\n",
    "\n",
    "__Generalization and abstraction:__ Abstraction is the process of removing details of objects. And Generalization, then, is the formulation of general concepts from specific instances by abstracting common properties. A concrete object can be looked at as a “subset” of a more generalized object.\n",
    "\n",
    "__Learning that is guided and Unsupervised:__ Supervised learning is the method that trains machines to use data that is well classified and labeled. Whereas Unsupervised learning, on the other hand, is the method that trains machines to use data that is neither classified nor labeled.\n",
    "\n",
    "__Regression and classification:__\n",
    "\n",
    "__Classification Models__ – Classification models are used for problems where the output variable can be categorized, such as Yes or No, or Pass or Fail. Classification Models are used to predict the category of the data. Real-life examples include spam detection, sentiment analysis, scorecard prediction of exams, etc.\n",
    "\n",
    "__Regression Models__ – Regression models are used for problems where the output variable is a real value such as a unique number, dollars, salary, weight or pressure, for example. It is most often used to predict numerical values based on previous data observations. Some of the more familiar regression algorithms include linear regression, logistic regression, polynomial regression, and ridge regression."
   ]
  }
 ],
 "metadata": {
  "kernelspec": {
   "display_name": "Python 3 (ipykernel)",
   "language": "python",
   "name": "python3"
  },
  "language_info": {
   "codemirror_mode": {
    "name": "ipython",
    "version": 3
   },
   "file_extension": ".py",
   "mimetype": "text/x-python",
   "name": "python",
   "nbconvert_exporter": "python",
   "pygments_lexer": "ipython3",
   "version": "3.9.7"
  }
 },
 "nbformat": 4,
 "nbformat_minor": 5
}

{
 "cells": [
  {
   "cell_type": "markdown",
   "id": "553e7f21",
   "metadata": {},
   "source": [
    "### ML Assignment_1"
   ]
  },
  {
   "cell_type": "markdown",
   "id": "58baf1b9",
   "metadata": {},
   "source": [
    "#### 1. What does one mean by the term \"machine learning\"?"
   ]
  },
  {
   "cell_type": "markdown",
   "id": "b80a0258",
   "metadata": {},
   "source": [
    "__Ans:__ Machine learning Popularly known as ML is a branch of Artificial Intelligence (AI) that allows software applications to become more accurate at predicting outcomes without being explicitly programmed to do so. Machine learning algorithms use historical data as input to predict new output values."
   ]
  },
  {
   "cell_type": "markdown",
   "id": "6cdd8649",
   "metadata": {},
   "source": [
    "#### 2. Can you think of 4 distinct types of issues where it shines?"
   ]
  },
  {
   "cell_type": "markdown",
   "id": "7ab080df",
   "metadata": {},
   "source": [
    "__Ans:__ The following are some of the issues where Machine Learning can be used:\n",
    "\n",
    "\n",
    "- __``Image Recognition``:__ Image recognition is one of the most common applications of machine learning. It is used to identify objects, persons, places, digital images, etc. The popular use case of image recognition and face detection is Automatic friend tagging suggestion.\n",
    "\n",
    "\n",
    "- __``Speech Recognition``:__ While using Google, we get an option of Search by voice, it comes under speech recognition, and it's a popular application of Machine Learning. Speech recognition is a process of converting voice instructions into text, and it is also known as Speech to text, or Computer based speech recognition At present, machine learning algorithms are widely used by various applications of speech recognition. Google assistant, Siri, Cortana, and Alexa are using speech recognition technology to follow the voice instructions.\n",
    "\n",
    "\n",
    "- __``Traffic prediction``:__ It predicts the traffic conditions such as whether traffic is cleared, slow-moving, or heavily congested with the help of two ways: Real Time location of the vehicle form Google Map app and sensors Average time has taken on past days at the same time.\n",
    "\n",
    "\n",
    "- __``Product recommendations``:__ Machine learning is widely used by various e-commerce and entertainment companies such as Amazon, Netflix, etc., for product recommendation to the user."
   ]
  },
  {
   "cell_type": "markdown",
   "id": "43ffe44c",
   "metadata": {},
   "source": [
    "#### 3. What is a labeled training set, and how does it work?"
   ]
  },
  {
   "cell_type": "markdown",
   "id": "d239898c",
   "metadata": {},
   "source": [
    "__Ans:__ You split up the data containing known response variable values into two pieces. The training set is used to train the algorithm, and then we use the trained model on the test set to predict the response variable values that are already known. Clearly, it is better to have labeled data than unlabeled data since we can get much more information from them."
   ]
  },
  {
   "cell_type": "markdown",
   "id": "ff40b09b",
   "metadata": {},
   "source": [
    "#### 4. What are the two most important tasks that are supervised?"
   ]
  },
  {
   "cell_type": "markdown",
   "id": "81023d4a",
   "metadata": {},
   "source": [
    "__Ans:__ The two most common supervised learning tasks are __Regression__ and __Classification.__"
   ]
  },
  {
   "cell_type": "markdown",
   "id": "472aad54",
   "metadata": {},
   "source": [
    "#### 5. Can you think of four examples of unsupervised tasks?"
   ]
  },
  {
   "cell_type": "markdown",
   "id": "f7e2b6d1",
   "metadata": {},
   "source": [
    "__Ans:__ Four examples of Unsupervised Tasks are __:__\n",
    "\n",
    "- __Clustering__\n",
    "\n",
    "- __Visualization__ \n",
    "\n",
    "- __Dimensionality Reduction__\n",
    "\n",
    "- __Association Rule Learning__"
   ]
  },
  {
   "cell_type": "markdown",
   "id": "e3892b0d",
   "metadata": {},
   "source": [
    "#### 6. State the machine learning model that would be best to make a robot walk through various unfamiliar terrains?"
   ]
  },
  {
   "cell_type": "markdown",
   "id": "93c4cb74",
   "metadata": {},
   "source": [
    "__Ans:__ The best Machine Learning model to allow a Robot to walk through unfamiliar terrains is __Reinforced Learning__, where the robot can learn from the response of the terrain to optimize itself."
   ]
  },
  {
   "cell_type": "markdown",
   "id": "6e2e1d7b",
   "metadata": {},
   "source": [
    "#### 7. Which algorithm will you use to divide your customers into different groups?"
   ]
  },
  {
   "cell_type": "markdown",
   "id": "e1d5f727",
   "metadata": {},
   "source": [
    "__Ans:__ The following algorithms can be used to divide customers into different groups:\n",
    "\n",
    "\n",
    "- __Supervised Learning__ (if the groups have known labels)\n",
    "\n",
    "- __Unsupervised Learning__ (if there are no group labels)"
   ]
  },
  {
   "cell_type": "markdown",
   "id": "6c26b638",
   "metadata": {},
   "source": [
    "#### 8. Will you consider the problem of spam detection to be a supervised or unsupervised learning problem?"
   ]
  },
  {
   "cell_type": "markdown",
   "id": "db5e4fc4",
   "metadata": {},
   "source": [
    "__Ans:__ Spam detection is a Supervised Machine Learning problem because the labels are known (spam or no spam)."
   ]
  },
  {
   "cell_type": "markdown",
   "id": "6bddb9df",
   "metadata": {},
   "source": [
    "#### 9. What is the concept of an online learning system?"
   ]
  },
  {
   "cell_type": "markdown",
   "id": "c792aa07",
   "metadata": {},
   "source": [
    "__Ans:__ Online learning system is a learning system in which the machine learns continously, as data is given in small streams continuously."
   ]
  },
  {
   "cell_type": "markdown",
   "id": "f8c5c662",
   "metadata": {},
   "source": [
    "#### 10. What is out-of-core learning, and how does it differ from core learning?"
   ]
  },
  {
   "cell_type": "markdown",
   "id": "1dec9408",
   "metadata": {},
   "source": [
    "__Ans:__ Out-of-core learning system is a system that can handle data that cannot fit into your computer memory. It uses online learning system to feed data in small bits."
   ]
  },
  {
   "cell_type": "markdown",
   "id": "6e15e6cd",
   "metadata": {},
   "source": [
    "#### 11. What kind of learning algorithm makes predictions using a similarity measure?"
   ]
  },
  {
   "cell_type": "markdown",
   "id": "b6087af9",
   "metadata": {},
   "source": [
    "__Ans:__ Learning algorithm that relies on a similarity measure to make predictions is ___Instance Based Algorithm___.\n",
    "The Machine Learning systems which are categorized as instance-based learning are the systems that learn the training examples by heart and then generalizes to new instances based on some similarity measure. It is called instance-based because it builds the hypotheses from the training instances. It is also known as memory-based learning or lazy-learning. The time complexity of this algorithm depends upon the size of training data. The worst-case time complexity of this algorithm is O (n), where n is the number of training instances.\n",
    "\n",
    "___For example___, If we were to create a spam filter with an instance-based learning algorithm, instead of just flagging emails that are already marked as spam emails, our spam filter would be programmed to also flag emails that are very similar to them. This requires a measure of resemblance between two emails. A similarity measure between two emails could be the same sender or the repetitive use of the same keywords or something else."
   ]
  },
  {
   "cell_type": "markdown",
   "id": "84f2c47c",
   "metadata": {},
   "source": [
    "#### 12. What's the difference between a model parameter and a hyperparameter in a learning algorithm?"
   ]
  },
  {
   "cell_type": "markdown",
   "id": "a24da2f8",
   "metadata": {},
   "source": [
    "__Ans:__ Model parameter determines how a model will predict given a new instance. Model usually has more than one parameter (i.e. slope of a linear model). Hyperparameter is a parameter for the learning algorithm, not of a model. Model parameters are estimated based on the data during model training and model hyperparameters are set manually and are used in processes to help estimate model parameters. Model hyperparameters are often referred to as parameters because they are the parts of the machine learning that must be set manually and tuned."
   ]
  },
  {
   "cell_type": "markdown",
   "id": "baec97f8",
   "metadata": {},
   "source": [
    "#### 13. What are the criteria that model-based learning algorithms look for? What is the most popular method they use to achieve success? What method do they use to make predictions?"
   ]
  },
  {
   "cell_type": "markdown",
   "id": "eb95ae36",
   "metadata": {},
   "source": [
    "__Ans:__ Model based learning algorithm search for the optimal value of parameters in a model that will give the best results for the new instances. We often use a cost function or similar to determine what the parameter value has to be in order to minimize the function. The model makes prediction by using the value of the new instance and the parameters in its function. The goal for a model-based algorithm is to be able to generalize to new examples. To do this, model based algorithms search for optimal values for the model's parameters, often called theta. This searching, or \"learning\", is what machine learning is all about. Model-based system learn by minimizing a cost function that measures how bad the system is at making predicitons on new data, plus a penalty for model complexity if the model is regularized. To make a prediction, a new instance's features are fed into a hypothesis function which uses the minimized theta found by repeatedly running the cost function."
   ]
  },
  {
   "cell_type": "markdown",
   "id": "ad49c588",
   "metadata": {},
   "source": [
    "#### 14. Can you name four of the most important Machine Learning challenges?"
   ]
  },
  {
   "cell_type": "markdown",
   "id": "5eddd84e",
   "metadata": {},
   "source": [
    "__Ans:__ Four of the most important Machine Learning challenges include the following:\n",
    "\n",
    "1. Overfitting the Data (using a model too complicated)\n",
    "\n",
    "2. Underfitting the data (using a simple model)\n",
    "\n",
    "3. Lacking in Data\n",
    "\n",
    "4. Non Representative Data"
   ]
  },
  {
   "cell_type": "markdown",
   "id": "4b7c6a15",
   "metadata": {},
   "source": [
    "#### 15. What happens if the model performs well on the training data but fails to generalize the results to new situations? Can you think of three different options?"
   ]
  },
  {
   "cell_type": "markdown",
   "id": "9bf96df2",
   "metadata": {},
   "source": [
    "__Ans:__ If the model performs poorly to new instances, then it has overfitted on the training data. To solve this, we can do any of the following three:\n",
    "\n",
    "- Get more data\n",
    "\n",
    "- Implement a simpler model\n",
    "\n",
    "- Eliminate outliers or noise from the existing data set"
   ]
  },
  {
   "cell_type": "markdown",
   "id": "5c1cce0f",
   "metadata": {},
   "source": [
    "#### 16. What exactly is a test set, and why would you need one?"
   ]
  },
  {
   "cell_type": "markdown",
   "id": "88d2f845",
   "metadata": {},
   "source": [
    "__Ans:__ Test set is a set to test your model (fit using training data) to see how it performs.Test set is necessary to determine how good (or bad) a model performs. \n",
    "\n",
    "When we want to know how well our model generalizes to new cases we prefer to use a test set instead of actually deploying the system. To build the test set we split the training data (50-50, 60-40, 80-20 are common splits) into a training set and test set. Our model is training with the training set. Then we use the model to run predictions on the test set. Our error rate on the test set is called the generalization error or out-of-sample error. This error tells us how well our model performs on examples it has never seen before.\n",
    "\n",
    "If the training error is low, but the generalization error is high, it means we're overfitting our model."
   ]
  },
  {
   "cell_type": "markdown",
   "id": "e7cefe41",
   "metadata": {},
   "source": [
    "#### 17. What is a validation set's purpose?"
   ]
  },
  {
   "cell_type": "markdown",
   "id": "6c3a573c",
   "metadata": {},
   "source": [
    "__Ans:__ Validation set is a set used to compare between different training models. \n",
    "\n",
    "Let's say we have a linear model and we want to perform some hyperparameter tuning to reduce the generalization error. One way to do this 100 different models with 100 different hyperparameter values using the training set and finding the generalization error with the test set. You find the best hyperparameter value gives you 5% generalization error.\n",
    "\n",
    "_So you launch the model into production and find you're seeing 15% generalization error. This isn't going as expected. What happened?_\n",
    "\n",
    "The problem is that for each iteration of hyperparameter tuning, you measured the generalization error then updated the model using the same test set. In other words, your produced the best generalization error for the test set. The test set no longer represents cases the model hasn't seen before.\n",
    "\n",
    "A common solution to this problem is to have a second holdout set called the validation set. You train multiple models with various hyperparameters using the training set, you select the model and hyperparameters that perform best on the validation set, and when you are happy about your model you run a single final test against the test set to get an estimate of the generalization error."
   ]
  },
  {
   "cell_type": "markdown",
   "id": "e29973d0",
   "metadata": {},
   "source": [
    "#### 18. What precisely is the train-dev kit, when will you need it, how do you put it to use?"
   ]
  },
  {
   "cell_type": "markdown",
   "id": "3a7b4e0f",
   "metadata": {},
   "source": [
    "__Ans:__ Cross-validation is a tool to compare models without needing a separate validation set. It is preferred over validation set because we can save from breaking of part of the training set to create a validation set, as having more data is valuable regardless."
   ]
  },
  {
   "cell_type": "markdown",
   "id": "1de0c705",
   "metadata": {},
   "source": [
    "#### 19. What could go wrong if you use the test set to tune hyperparameters?"
   ]
  },
  {
   "cell_type": "markdown",
   "id": "b67d0c4f",
   "metadata": {},
   "source": [
    "__Ans:__ If you tune hyperparameters using the test sets, then it may not perform well on the out-of-sample data because the model is tuned just for that specific set. Our model will not be generalizable to new examples."
   ]
  }
 ],
 "metadata": {
  "kernelspec": {
   "display_name": "Python 3 (ipykernel)",
   "language": "python",
   "name": "python3"
  },
  "language_info": {
   "codemirror_mode": {
    "name": "ipython",
    "version": 3
   },
   "file_extension": ".py",
   "mimetype": "text/x-python",
   "name": "python",
   "nbconvert_exporter": "python",
   "pygments_lexer": "ipython3",
   "version": "3.9.7"
  }
 },
 "nbformat": 4,
 "nbformat_minor": 5
}
